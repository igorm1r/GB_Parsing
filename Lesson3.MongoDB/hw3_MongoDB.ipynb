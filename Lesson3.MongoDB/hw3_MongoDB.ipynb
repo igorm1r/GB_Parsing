{
 "cells": [
  {
   "cell_type": "markdown",
   "metadata": {},
   "source": [
    "1. Развернуть у себя на компьютере/виртуальной машине/хостинге MongoDB и реализовать функцию, записывающую собранные вакансии в созданную БД.\n",
    "2. Написать функцию, которая производит поиск и выводит на экран вакансии с заработной платой больше введённой суммы.\n",
    "3. Написать функцию, которая будет добавлять в вашу базу данных только новые вакансии с сайта.\n"
   ]
  },
  {
   "cell_type": "code",
   "execution_count": 26,
   "metadata": {},
   "outputs": [],
   "source": [
    "from pymongo import MongoClient\n",
    "from  pprint import pprint\n",
    "import pandas as pd\n",
    "import numpy as np\n",
    "\n",
    "client = MongoClient('localhost',27017)\n",
    "\n",
    "db = client['new']"
   ]
  },
  {
   "cell_type": "code",
   "execution_count": 27,
   "metadata": {},
   "outputs": [],
   "source": [
    "# Собираем файлы\n",
    "df_hh = pd.read_csv('hh.csv', index_col=0) \n",
    "df_sj = pd.read_csv('sj.csv', index_col=0)"
   ]
  },
  {
   "cell_type": "code",
   "execution_count": 28,
   "metadata": {},
   "outputs": [],
   "source": [
    "# Создаём коллекции \n",
    "collection_hh = db.collection_hh\n",
    "collection_sj = db.collection_sj"
   ]
  },
  {
   "cell_type": "code",
   "execution_count": 29,
   "metadata": {},
   "outputs": [
    {
     "data": {
      "text/plain": [
       "<pymongo.results.InsertManyResult at 0xe654558>"
      ]
     },
     "execution_count": 29,
     "metadata": {},
     "output_type": "execute_result"
    }
   ],
   "source": [
    "# Добавляем данные в коллекции, преобразуя их в словарь\n",
    "collection_hh.insert_many(df_hh.to_dict('records_hh'))\n",
    "collection_sj.insert_many(df_sj.to_dict('records_sj'))"
   ]
  },
  {
   "cell_type": "code",
   "execution_count": 30,
   "metadata": {},
   "outputs": [],
   "source": [
    "# Функция, которая будет добавлять в вашу базу данных только новые вакансии с сайта.\n",
    "\n",
    "def add_new_vacancy(collection_site, item):\n",
    "    if collection_site.count_documents({'link':item['link']}) == 0:\n",
    "        collection_site.insert_one(item)"
   ]
  },
  {
   "cell_type": "code",
   "execution_count": 31,
   "metadata": {},
   "outputs": [
    {
     "name": "stderr",
     "output_type": "stream",
     "text": [
      "c:\\users\\игорь\\appdata\\local\\programs\\python\\python37-32\\lib\\site-packages\\ipykernel_launcher.py:1: DeprecationWarning: count is deprecated. Use Collection.count_documents instead.\n",
      "  \"\"\"Entry point for launching an IPython kernel.\n"
     ]
    },
    {
     "data": {
      "text/plain": [
       "166"
      ]
     },
     "execution_count": 31,
     "metadata": {},
     "output_type": "execute_result"
    }
   ],
   "source": [
    "collection_hh.find().count()"
   ]
  },
  {
   "cell_type": "code",
   "execution_count": 32,
   "metadata": {},
   "outputs": [],
   "source": [
    "old_item = {'cur_salary': 'н/у',\n",
    " 'link': 'https://spb.hh.ru/vacancy/36880360?query=Data%20scientist',\n",
    " 'max_salary': 'н/у',\n",
    " 'min_salary': 'н/у',\n",
    " 'salary': np.nan,\n",
    " 'site': 'HH',\n",
    " 'vacancy': 'Технический директор / системный архитектор'}"
   ]
  },
  {
   "cell_type": "code",
   "execution_count": 33,
   "metadata": {},
   "outputs": [],
   "source": [
    "new_item = {'cur_salary': np.nan,\n",
    " 'link': 'https://hh.ru/vacancy/36876631?query=python',\n",
    " 'max_salary': 200000,\n",
    " 'min_salary': 150000,\n",
    " 'salary': np.nan,\n",
    " 'site': 'HH',\n",
    " 'vacancy': 'Разработчик Python / Django'}"
   ]
  },
  {
   "cell_type": "code",
   "execution_count": 34,
   "metadata": {},
   "outputs": [],
   "source": [
    "add_new_vacancy(collection_hh, old_item)"
   ]
  },
  {
   "cell_type": "code",
   "execution_count": 35,
   "metadata": {},
   "outputs": [
    {
     "name": "stderr",
     "output_type": "stream",
     "text": [
      "c:\\users\\игорь\\appdata\\local\\programs\\python\\python37-32\\lib\\site-packages\\ipykernel_launcher.py:2: DeprecationWarning: count is deprecated. Use Collection.count_documents instead.\n",
      "  \n"
     ]
    },
    {
     "data": {
      "text/plain": [
       "166"
      ]
     },
     "execution_count": 35,
     "metadata": {},
     "output_type": "execute_result"
    }
   ],
   "source": [
    "# Проверка\n",
    "collection_hh.find().count()"
   ]
  },
  {
   "cell_type": "code",
   "execution_count": 36,
   "metadata": {},
   "outputs": [],
   "source": [
    "add_new_vacancy(collection_hh, new_item)"
   ]
  },
  {
   "cell_type": "code",
   "execution_count": 37,
   "metadata": {},
   "outputs": [
    {
     "name": "stderr",
     "output_type": "stream",
     "text": [
      "c:\\users\\игорь\\appdata\\local\\programs\\python\\python37-32\\lib\\site-packages\\ipykernel_launcher.py:2: DeprecationWarning: count is deprecated. Use Collection.count_documents instead.\n",
      "  \n"
     ]
    },
    {
     "data": {
      "text/plain": [
       "167"
      ]
     },
     "execution_count": 37,
     "metadata": {},
     "output_type": "execute_result"
    }
   ],
   "source": [
    "# Проверка\n",
    "collection_hh.find().count()"
   ]
  },
  {
   "cell_type": "code",
   "execution_count": 38,
   "metadata": {},
   "outputs": [],
   "source": [
    "# Функция, которая производит поиск и выводит на экран вакансии с заработной платой больше введённой суммы.\n",
    "\n",
    "def vacancies_salary_choice(collection_site, wish_salary):    \n",
    "    for collection in collection_site.find({'$or':[{'min_salary': {'$gt':wish_salary}},{'max_salary': {'$gt':wish_salary}}]  }):\n",
    "        pprint(collection)"
   ]
  },
  {
   "cell_type": "code",
   "execution_count": 39,
   "metadata": {},
   "outputs": [
    {
     "name": "stdout",
     "output_type": "stream",
     "text": [
      "{'_id': ObjectId('5ed844f99a49919652f70e3d'),\n",
      " 'cur_salary': nan,\n",
      " 'link': 'https://hh.ru/vacancy/36876631?query=python',\n",
      " 'max_salary': 200000,\n",
      " 'min_salary': 150000,\n",
      " 'salary': nan,\n",
      " 'site': 'HH',\n",
      " 'vacancy': 'Разработчик Python / Django'}\n"
     ]
    }
   ],
   "source": [
    "vacancies_salary_choice(collection_hh, 190000)"
   ]
  },
  {
   "cell_type": "code",
   "execution_count": 40,
   "metadata": {},
   "outputs": [],
   "source": [
    "collection_hh.drop({})"
   ]
  },
  {
   "cell_type": "code",
   "execution_count": 41,
   "metadata": {},
   "outputs": [],
   "source": [
    "collection_sj.drop({})"
   ]
  }
 ],
 "metadata": {
  "kernelspec": {
   "display_name": "Python 3",
   "language": "python",
   "name": "python3"
  },
  "language_info": {
   "codemirror_mode": {
    "name": "ipython",
    "version": 3
   },
   "file_extension": ".py",
   "mimetype": "text/x-python",
   "name": "python",
   "nbconvert_exporter": "python",
   "pygments_lexer": "ipython3",
   "version": "3.7.4"
  }
 },
 "nbformat": 4,
 "nbformat_minor": 4
}
